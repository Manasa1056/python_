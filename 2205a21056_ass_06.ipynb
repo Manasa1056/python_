{
  "nbformat": 4,
  "nbformat_minor": 0,
  "metadata": {
    "colab": {
      "provenance": [],
      "authorship_tag": "ABX9TyOHLQs2wbnx5iMVJtL9uPNM",
      "include_colab_link": true
    },
    "kernelspec": {
      "name": "python3",
      "display_name": "Python 3"
    },
    "language_info": {
      "name": "python"
    }
  },
  "cells": [
    {
      "cell_type": "markdown",
      "metadata": {
        "id": "view-in-github",
        "colab_type": "text"
      },
      "source": [
        "<a href=\"https://colab.research.google.com/github/Manasa1056/python_/blob/main/2205a21056_ass_06.ipynb\" target=\"_parent\"><img src=\"https://colab.research.google.com/assets/colab-badge.svg\" alt=\"Open In Colab\"/></a>"
      ]
    },
    {
      "cell_type": "code",
      "execution_count": 1,
      "metadata": {
        "colab": {
          "base_uri": "https://localhost:8080/"
        },
        "id": "7fgsnHW9jTqU",
        "outputId": "3865e735-4d39-40c0-dd20-72af9498fee6"
      },
      "outputs": [
        {
          "output_type": "stream",
          "name": "stdout",
          "text": [
            "++++++\n",
            "+++++\n",
            "++++\n",
            "+++\n",
            "++\n",
            "+\n",
            "++++++\n",
            "+++++\n",
            "++++\n",
            "+++\n",
            "++\n",
            "+\n"
          ]
        }
      ],
      "source": [
        "for row in range(6):\n",
        "  for col in range(6):\n",
        "    if(row<=col):\n",
        "      print(\"+\",end=\"\")\n",
        "  print()\n",
        "i=0\n",
        "\n",
        "while(i<6):\n",
        "  j=0\n",
        "  while(j<6):\n",
        "    if(i<=j):\n",
        "      print(\"+\",end=\"\")\n",
        "    j+=1\n",
        "  i+=1\n",
        "  print()"
      ]
    },
    {
      "cell_type": "code",
      "source": [
        "for row in range(6):\n",
        "  for col in range(6):\n",
        "    if(col<=row):\n",
        "      print(\"*\",end=\"\")\n",
        "  print()\n",
        "i=0\n",
        "\n",
        "while(i<6):\n",
        "  j=0\n",
        "  while(j<6):\n",
        "    if(j<=i):\n",
        "      print(\"*\",end=\"\")\n",
        "    j+=1\n",
        "  i+=1\n",
        "  print()"
      ],
      "metadata": {
        "colab": {
          "base_uri": "https://localhost:8080/"
        },
        "id": "APcqyjQsjchZ",
        "outputId": "2635b4c6-bbd7-4a17-8298-6d6851b449b6"
      },
      "execution_count": 2,
      "outputs": [
        {
          "output_type": "stream",
          "name": "stdout",
          "text": [
            "*\n",
            "**\n",
            "***\n",
            "****\n",
            "*****\n",
            "******\n",
            "*\n",
            "**\n",
            "***\n",
            "****\n",
            "*****\n",
            "******\n"
          ]
        }
      ]
    },
    {
      "cell_type": "code",
      "source": [
        "for row in range(5):\n",
        "    for col in range(5):\n",
        "        if (col < 5 - row - 1):\n",
        "            print(\" \", end=\"\")\n",
        "        else:\n",
        "            print(\"*\", end=\"\")\n",
        "    print()\n",
        "\n",
        "\n",
        "\n",
        "rows = 5\n",
        "i = 0\n",
        "while i < rows:\n",
        "    j = 0\n",
        "    while j < (rows - i - 1):\n",
        "        print(\" \", end='')\n",
        "        j += 1\n",
        "    j = 0\n",
        "    while j <= i:\n",
        "        print(\"*\", end='')\n",
        "        j += 1\n",
        "    print('')\n",
        "    i += 1"
      ],
      "metadata": {
        "colab": {
          "base_uri": "https://localhost:8080/"
        },
        "id": "67gEbazmjhIA",
        "outputId": "2737207a-621a-45dc-b6d1-e4aa2711148c"
      },
      "execution_count": 3,
      "outputs": [
        {
          "output_type": "stream",
          "name": "stdout",
          "text": [
            "    *\n",
            "   **\n",
            "  ***\n",
            " ****\n",
            "*****\n",
            "    *\n",
            "   **\n",
            "  ***\n",
            " ****\n",
            "*****\n"
          ]
        }
      ]
    },
    {
      "cell_type": "code",
      "source": [
        "rows=6\n",
        "for i in range(rows):\n",
        "    print(' ' * (i * 1), end='')\n",
        "    print('+' * (rows - i))\n",
        "\n",
        "\n",
        "rows = 6\n",
        "i = 0\n",
        "while i < rows:\n",
        "    print(' ' * i, end='')\n",
        "    print('+' * (rows - i))\n",
        "    i += 1"
      ],
      "metadata": {
        "colab": {
          "base_uri": "https://localhost:8080/"
        },
        "id": "CG-BWxHHjooJ",
        "outputId": "4809dee5-2607-4d2f-f83a-37897a971059"
      },
      "execution_count": 4,
      "outputs": [
        {
          "output_type": "stream",
          "name": "stdout",
          "text": [
            "++++++\n",
            " +++++\n",
            "  ++++\n",
            "   +++\n",
            "    ++\n",
            "     +\n",
            "++++++\n",
            " +++++\n",
            "  ++++\n",
            "   +++\n",
            "    ++\n",
            "     +\n"
          ]
        }
      ]
    }
  ]
}